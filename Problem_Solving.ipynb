{
 "cells": [
  {
   "cell_type": "markdown",
   "metadata": {
    "id": "GMHQCo7DTcdd"
   },
   "source": [
    "## `Problem Solving`\n",
    "### [Kanav Bansal Sir Repository](https://github.com/bansalkanav/Machine_Learning_and_Deep_Learning/tree/master/Module%201%20-%20Python%20Programming)\n",
    "### [Leetcode Questions](https://leetcode.com/problems/two-sum/)"
   ]
  },
  {
   "cell_type": "markdown",
   "metadata": {
    "id": "_pYwcgZZTcdk"
   },
   "source": [
    "**Problem 1**  \n",
    "Given an array `arr` of size `N`.  \n",
    "\n",
    "Output the maximum value of `abs(arr[i] - arr[j])`.\n",
    "```\n",
    "Input: arr = [0, -1, 5, 7, 10]\n",
    "Output: 11\n",
    "```"
   ]
  },
  {
   "cell_type": "code",
   "execution_count": 23,
   "metadata": {
    "id": "jL8tqYdgTcdl"
   },
   "outputs": [
    {
     "name": "stdout",
     "output_type": "stream",
     "text": [
      "11\n"
     ]
    }
   ],
   "source": [
    "## Solution\n",
    "arr = [0,-1,5,7,10]\n",
    "mins = 1000   # large positive\n",
    "maxs = -1000  # large negative\n",
    "for i in arr:\n",
    "    if i>maxs:\n",
    "        maxs=i\n",
    "    if i<mins:\n",
    "        mins=i\n",
    "print(abs(mins-maxs))"
   ]
  },
  {
   "cell_type": "markdown",
   "metadata": {
    "id": "OrDIgUr0Tcdo"
   },
   "source": [
    "**Problem 2**  \n",
    "Given a read-only array `arr` of size `N`.\n",
    "The property of this array is that, \n",
    "1. Each element of this array is going to fall in the range of 1 to N (where N is the size of array).\n",
    "2. All element comes exaclty once, except for 1 element. Only one element comes twice.\n",
    "\n",
    "Output the repeated value?\n",
    "```\n",
    "Input: arr = [3, 1, 2, 5, 3]  \n",
    "Output: 3\n",
    "```"
   ]
  },
  {
   "cell_type": "code",
   "execution_count": 43,
   "metadata": {
    "id": "EWRkkoZZTcdp"
   },
   "outputs": [],
   "source": [
    "## Solution\n"
   ]
  },
  {
   "cell_type": "code",
   "execution_count": null,
   "metadata": {},
   "outputs": [],
   "source": [
    "## Solution\n"
   ]
  },
  {
   "cell_type": "markdown",
   "metadata": {
    "id": "ef-z_VXOTcdq"
   },
   "source": [
    "**Problem 3**:  FAANG question\n",
    "\n",
    "Given `N` bars each of width `1` unit and length represented in an array.  \n",
    "Output the units of water that is going to be trapped.\n",
    "```\n",
    "Input: height = [0, 1, 0, 2, 1, 0, 1, 3, 2, 1, 2, 1]\n",
    "Output: 6\n",
    "```\n",
    "![title](https://github.com/bansalkanav/Machine_Learning_and_Deep_Learning/blob/master/Module%201%20-%20Python%20Programming/11.%20Problem%20Solving%20for%20Interviews/img/rainwatertrap.png?raw=1)"
   ]
  },
  {
   "cell_type": "code",
   "execution_count": null,
   "metadata": {
    "id": "16afEgllTcdt"
   },
   "outputs": [],
   "source": [
    "## Solution"
   ]
  }
 ],
 "metadata": {
  "colab": {
   "name": "Problem Solving Part 2.ipynb",
   "provenance": []
  },
  "kernelspec": {
   "display_name": "Python 3 (ipykernel)",
   "language": "python",
   "name": "python3"
  },
  "language_info": {
   "codemirror_mode": {
    "name": "ipython",
    "version": 3
   },
   "file_extension": ".py",
   "mimetype": "text/x-python",
   "name": "python",
   "nbconvert_exporter": "python",
   "pygments_lexer": "ipython3",
   "version": "3.9.7"
  }
 },
 "nbformat": 4,
 "nbformat_minor": 1
}
