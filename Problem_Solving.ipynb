{
 "cells": [
  {
   "cell_type": "markdown",
   "metadata": {
    "id": "GMHQCo7DTcdd"
   },
   "source": [
    "## `Problem Solving`\n",
    "### [Kanav Bansal Sir Repository](https://github.com/bansalkanav/Machine_Learning_and_Deep_Learning/tree/master/Module%201%20-%20Python%20Programming)\n",
    "### [Leetcode Questions](https://leetcode.com/problems/two-sum/)"
   ]
  },
  {
   "cell_type": "markdown",
   "metadata": {
    "id": "_pYwcgZZTcdk"
   },
   "source": [
    "**Problem 1**  \n",
    "Given an array `arr` of size `N`.  \n",
    "\n",
    "Output the maximum value of `abs(arr[i] - arr[j])`.\n",
    "```\n",
    "Input: arr = [0, -1, 5, 7, 10]\n",
    "Output: 11\n",
    "```"
   ]
  },
  {
   "cell_type": "code",
   "execution_count": 23,
   "metadata": {
    "id": "jL8tqYdgTcdl"
   },
   "outputs": [
    {
     "name": "stdout",
     "output_type": "stream",
     "text": [
      "11\n"
     ]
    }
   ],
   "source": [
    "## Solution\n",
    "arr = [0,-1,5,7,10]\n",
    "mins = 1000   # large positive\n",
    "maxs = -1000  # large negative\n",
    "for i in arr:\n",
    "    if i>maxs:\n",
    "        maxs=i\n",
    "    if i<mins:\n",
    "        mins=i\n",
    "print(abs(mins-maxs))"
   ]
  },
  {
   "cell_type": "markdown",
   "metadata": {
    "id": "OrDIgUr0Tcdo"
   },
   "source": [
    "**Problem 2**  \n",
    "Given a read-only array `arr` of size `N`.\n",
    "The property of this array is that, \n",
    "1. Each element of this array is going to fall in the range of 1 to N (where N is the size of array).\n",
    "2. All element comes exaclty once, except for 1 element. Only one element comes twice.\n",
    "\n",
    "Output the repeated value?\n",
    "```\n",
    "Input: arr = [3, 1, 2, 5, 3]  \n",
    "Output: 3\n",
    "```"
   ]
  },
  {
   "cell_type": "code",
   "execution_count": 10,
   "metadata": {
    "id": "EWRkkoZZTcdp"
   },
   "outputs": [
    {
     "name": "stdout",
     "output_type": "stream",
     "text": [
      "array of zeros : [0, 0, 0, 0, 0]\n",
      "loop wise increment : [0, 0, 1, 0, 0]\n",
      "loop wise increment : [1, 0, 1, 0, 0]\n",
      "loop wise increment : [1, 1, 1, 0, 0]\n",
      "loop wise increment : [1, 1, 1, 0, 1]\n",
      "loop wise increment : [1, 1, 2, 0, 1]\n",
      "array of counts : [1, 1, 2, 0, 1]\n",
      "repeated number = 3\n",
      "missing number = 4\n"
     ]
    }
   ],
   "source": [
    "## Solution\n",
    "\n",
    "arr = [3, 1, 2, 5, 3]\n",
    "temp= [0]*len(arr)\n",
    "print('array of zeros :',temp)\n",
    "for i in arr:\n",
    "    temp[i-1]=temp[i-1]+1\n",
    "    print('loop wise increment :',temp)\n",
    "print('array of counts :',temp)\n",
    "repeated_number = temp.index(2)+1 # index of 2 because as the second property says Only one element comes twice.\n",
    "missing_number = temp.index(0)+1\n",
    "print(f'repeated number = {repeated_number}')\n",
    "print(f'missing number = {missing_number}')"
   ]
  },
  {
   "cell_type": "code",
   "execution_count": 11,
   "metadata": {},
   "outputs": [
    {
     "name": "stdout",
     "output_type": "stream",
     "text": [
      "missing_num_sum : 15\n",
      "repeated_num_sum : 14\n",
      "missing_num_square_sum : 55\n",
      "repeated_num_square_sum : 48\n",
      "After solving equations :\n",
      "repeated number = 3\n",
      "missing number = 4\n"
     ]
    }
   ],
   "source": [
    "# solution\n",
    "\n",
    "arr = [3, 1, 2, 5, 3]\n",
    "n= len(arr)\n",
    "missing_num_sum =int(n*(n+1)/2) # sum of first n natural numbers\n",
    "repeated_num_sum = sum(arr)\n",
    "missing_num_square_sum = int(n*(n+1)*(2*n+1)/6) #sum of squares of first n natural numbers\n",
    "repeated_num_square_sum= sum([i**2 for i in arr])\n",
    "print('missing_num_sum :',missing_num_sum)\n",
    "print('repeated_num_sum :',repeated_num_sum)\n",
    "print('missing_num_square_sum :',missing_num_square_sum)\n",
    "print('repeated_num_square_sum :',repeated_num_square_sum)\n",
    "\n",
    "##############################################################################################\n",
    "##############################################################################################\n",
    "\n",
    "\n",
    "# (a+b) = (a2-b2)/(a-b)\n",
    "diff_of_repeated_and_missing = (repeated_num_sum - missing_num_sum)\n",
    "sum_of_repeated_and_missing = (repeated_num_square_sum - missing_num_square_sum)/diff_of_repeated_and_missing\n",
    "\n",
    "# b = ((a+b)-(a-b)/2)\n",
    "missing_number = int((sum_of_repeated_and_missing - diff_of_repeated_and_missing)/2)\n",
    "\n",
    "# a = ((a+b)+(a-b)/2)\n",
    "repeated_number =int((sum_of_repeated_and_missing + diff_of_repeated_and_missing)/2)\n",
    "print('After solving equations :')\n",
    "print(f'repeated number = {repeated_number}')\n",
    "print(f'missing number = {missing_number}')"
   ]
  },
  {
   "cell_type": "markdown",
   "metadata": {
    "id": "ef-z_VXOTcdq"
   },
   "source": [
    "**Problem 3**:  **MAANG question**\n",
    "\n",
    "Given `N` bars each of width `1` unit and length represented in an array.  \n",
    "Output the units of water that is going to be trapped.\n",
    "```\n",
    "Input: height = [0, 1, 0, 2, 1, 0, 1, 3, 2, 1, 2, 1]\n",
    "Output: 6\n",
    "```\n",
    "![title](https://github.com/bansalkanav/Machine_Learning_and_Deep_Learning/blob/master/Module%201%20-%20Python%20Programming/11.%20Problem%20Solving%20for%20Interviews/img/rainwatertrap.png?raw=1)"
   ]
  },
  {
   "cell_type": "markdown",
   "metadata": {},
   "source": [
    "**Approach**: To find the highest bar on the left and right, array traversal is needed which reduces the efficiency of the solution. To make this efficient one must pre-compute the highest bar on the left and right of every bar in linear time. Then use these pre-computed values to find the amount of water in every array element.\n"
   ]
  },
  {
   "cell_type": "code",
   "execution_count": 57,
   "metadata": {},
   "outputs": [],
   "source": [
    "## Solution\n",
    "\n",
    "def rain_trap(arr):\n",
    "    n = len(arr)\n",
    "    water = 0\n",
    "    left = n*[0]\n",
    "    right = n*[0]\n",
    "    left[0]=arr[0]\n",
    "    max_so_far_left = arr[0]\n",
    "    for index in range(n):\n",
    "        if (max_so_far_left<arr[index]):       \n",
    "            max_so_far_left=arr[index]\n",
    "            left[index] = max_so_far_left\n",
    "        else:\n",
    "            left[index] = max_so_far_left\n",
    "    \n",
    "    max_so_far_right = arr[-1]\n",
    "    for index in range(n-1,-1,-1):\n",
    "        if max_so_far_right<arr[index]:\n",
    "            max_so_far_right = arr[index]\n",
    "            right[index] = max_so_far_right\n",
    "        else:\n",
    "            right[index] = max_so_far_right\n",
    "\n",
    "    print('Left :',left)\n",
    "    print('Right :',right)\n",
    "\n",
    "    for index in range(0,n):\n",
    "        water += min(left[index],right[index]) - arr[index]\n",
    "    print('Water stored :',water)"
   ]
  },
  {
   "cell_type": "markdown",
   "metadata": {},
   "source": [
    "### `Time Complexity: O(n)`\n",
    "### `Space Complexity: O(n)`"
   ]
  },
  {
   "cell_type": "code",
   "execution_count": 61,
   "metadata": {},
   "outputs": [
    {
     "name": "stdout",
     "output_type": "stream",
     "text": [
      "Left : [0, 1, 1, 2, 2, 2, 2, 3, 3, 3, 3, 3]\n",
      "Right : [3, 3, 3, 3, 3, 3, 3, 3, 2, 2, 2, 1]\n",
      "Water stored : 6\n",
      "-----------------------------------------\n",
      "-----------------------------------------\n",
      "Left : [1, 1, 2, 2, 2, 2, 3, 3, 3, 3]\n",
      "Right : [3, 3, 3, 3, 3, 3, 3, 2, 2, 2]\n",
      "Water stored : 9\n"
     ]
    }
   ],
   "source": [
    "height = [0, 1, 0, 2, 1, 0, 1, 3, 2, 1, 2, 1]\n",
    "rain_trap(height)\n",
    "print('-----------------------------------------')\n",
    "print('-----------------------------------------')\n",
    "height = [ 1, 0, 2, 0, 1, 0, 3, 1, 0, 2 ]\n",
    "rain_trap(height)"
   ]
  },
  {
   "cell_type": "markdown",
   "metadata": {},
   "source": [
    "**Problem 4: Lottery problem**"
   ]
  },
  {
   "cell_type": "code",
   "execution_count": 9,
   "metadata": {},
   "outputs": [
    {
     "name": "stdout",
     "output_type": "stream",
     "text": [
      "9\n",
      "Please, Enter only numbers that are between 1 and 5!!\n",
      "3\n",
      "Better luck next time\n",
      "Actual no: 4 and your guess is: 3\n",
      "2\n",
      "Better luck next time\n",
      "Actual no: 3 and your guess is: 2\n"
     ]
    }
   ],
   "source": [
    "import random\n",
    "for i in range(3):\n",
    "    num = int(input())\n",
    "    if num<6:\n",
    "        rand = random.randint(0,5)\n",
    "        if num == rand:\n",
    "            print('COngratualtions, you won')\n",
    "            break\n",
    "        else:\n",
    "            print('Better luck next time')\n",
    "            print(f'Actual no: {rand} and your guess is: {num}')\n",
    "    else:\n",
    "        print('Please, Enter only numbers that are between 1 and 5!!')"
   ]
  },
  {
   "cell_type": "code",
   "execution_count": null,
   "metadata": {},
   "outputs": [],
   "source": []
  }
 ],
 "metadata": {
  "colab": {
   "name": "Problem Solving Part 2.ipynb",
   "provenance": []
  },
  "kernelspec": {
   "display_name": "Python 3 (ipykernel)",
   "language": "python",
   "name": "python3"
  },
  "language_info": {
   "codemirror_mode": {
    "name": "ipython",
    "version": 3
   },
   "file_extension": ".py",
   "mimetype": "text/x-python",
   "name": "python",
   "nbconvert_exporter": "python",
   "pygments_lexer": "ipython3",
   "version": "3.9.7"
  }
 },
 "nbformat": 4,
 "nbformat_minor": 1
}
