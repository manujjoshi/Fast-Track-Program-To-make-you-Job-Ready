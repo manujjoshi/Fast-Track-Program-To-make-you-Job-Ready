{
 "cells": [
  {
   "cell_type": "markdown",
   "id": "bd3bfd46",
   "metadata": {},
   "source": [
    "## `Chatbot with RaSa`\n",
    "- Today, almost all companies have chatbots to engage their users and serve customers by catering to their queries. As per a report by Gartner, Chatbots will be handling 85% of the customer service interactions by the year 2020. Also, 80% of businesses are expected to have some sort of chatbot automation by 2020 (Outgrow, 2018). We practically will have chatbots everywhere, but this doesn’t necessarily mean that all will be well-functioning. The challenge here is not to develop a chatbot, but to develop a well functioning one. \n",
    "![](https://d1m75rqqgidzqn.cloudfront.net/wp-data/2019/07/11143223/chatbot-history-infographic-1.jpg)\n",
    "### [Building a chatbot with RaSa](https://towardsdatascience.com/building-a-chatbot-with-rasa-3f03ecc5b324)\n",
    "### [Basics of building an Artificial Intelligence Chatbot without RaSa](https://www.mygreatlearning.com/blog/basics-of-building-an-artificial-intelligence-chatbot/)\n",
    "### [How to create Chatbot using RASA ](https://medium.com/voice-tech-podcast/how-to-create-chatbot-using-rasa-82954e141ae7)\n",
    "### [Learn how to Build and Deploy a Chatbot in Minutes using Rasa (IPL Case Study!)](https://www.analyticsvidhya.com/blog/2019/04/learn-build-chatbot-rasa-nlp-ipl/)"
   ]
  },
  {
   "cell_type": "code",
   "execution_count": null,
   "id": "d934adef",
   "metadata": {},
   "outputs": [],
   "source": []
  }
 ],
 "metadata": {
  "kernelspec": {
   "display_name": "Python 3 (ipykernel)",
   "language": "python",
   "name": "python3"
  },
  "language_info": {
   "codemirror_mode": {
    "name": "ipython",
    "version": 3
   },
   "file_extension": ".py",
   "mimetype": "text/x-python",
   "name": "python",
   "nbconvert_exporter": "python",
   "pygments_lexer": "ipython3",
   "version": "3.9.7"
  }
 },
 "nbformat": 4,
 "nbformat_minor": 5
}
